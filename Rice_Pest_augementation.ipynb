{
 "cells": [
  {
   "cell_type": "markdown",
   "id": "151d1e8e",
   "metadata": {},
   "source": [
    "# Rice Pest detection\n",
    "\n",
    "12 different classes were sorted from the IP102 dataset."
   ]
  },
  {
   "cell_type": "code",
   "execution_count": 1,
   "id": "10561f77",
   "metadata": {},
   "outputs": [],
   "source": [
    "import cv2\n",
    "import glob\n",
    "import os\n",
    "import imgaug.augmenters as iaa"
   ]
  },
  {
   "cell_type": "markdown",
   "id": "b073333d",
   "metadata": {},
   "source": [
    "# Loading the dataset \n",
    "\n",
    "The images of different classes is separated into different folders\n",
    "so this augmentation process should be done in all folders"
   ]
  },
  {
   "cell_type": "code",
   "execution_count": 2,
   "id": "d5efda39",
   "metadata": {},
   "outputs": [],
   "source": [
    "input_folder = \"dataset/6\"\n",
    "output_folder = \"preprocessedDataset\""
   ]
  },
  {
   "cell_type": "code",
   "execution_count": 3,
   "id": "422e2338",
   "metadata": {},
   "outputs": [],
   "source": [
    "images = []\n",
    "for img in glob.glob(input_folder+'/*.jpg'):\n",
    "    image = cv2.imread(img)\n",
    "    images.append(image)"
   ]
  },
  {
   "cell_type": "code",
   "execution_count": 4,
   "id": "50709a7e",
   "metadata": {},
   "outputs": [
    {
     "data": {
      "text/plain": [
       "58"
      ]
     },
     "execution_count": 4,
     "metadata": {},
     "output_type": "execute_result"
    }
   ],
   "source": [
    "len(images)"
   ]
  },
  {
   "cell_type": "markdown",
   "id": "03c0599d",
   "metadata": {},
   "source": [
    "# Image Agumentation"
   ]
  },
  {
   "cell_type": "markdown",
   "id": "b0d1e71f",
   "metadata": {},
   "source": [
    "## Horizontal Flip"
   ]
  },
  {
   "cell_type": "code",
   "execution_count": 5,
   "id": "9bbb8175",
   "metadata": {},
   "outputs": [],
   "source": [
    "augmentation_hflip = iaa.Sequential([\n",
    "    iaa.Fliplr(1) \n",
    "])"
   ]
  },
  {
   "cell_type": "code",
   "execution_count": 6,
   "id": "024a8aed",
   "metadata": {},
   "outputs": [],
   "source": [
    "augmented_images = augmentation_hflip(images = images)"
   ]
  },
  {
   "cell_type": "code",
   "execution_count": 7,
   "id": "35f57515",
   "metadata": {},
   "outputs": [],
   "source": [
    "i = len(images)+1;\n",
    "for img in augmented_images:\n",
    "    cv2.imwrite(os.path.join('dataset/6/6 (%i).jpg'%i),img)\n",
    "    i=i+1"
   ]
  },
  {
   "cell_type": "markdown",
   "id": "884431b8",
   "metadata": {},
   "source": [
    "## Vertical Flip"
   ]
  },
  {
   "cell_type": "code",
   "execution_count": 8,
   "id": "dddaa19b",
   "metadata": {},
   "outputs": [],
   "source": [
    "augmentation_vflip = iaa.Sequential([\n",
    "    iaa.Flipud(1) \n",
    "])"
   ]
  },
  {
   "cell_type": "code",
   "execution_count": 10,
   "id": "a08ba87a",
   "metadata": {},
   "outputs": [],
   "source": [
    "vaugmented_images = augmentation_vflip(images = images)"
   ]
  },
  {
   "cell_type": "code",
   "execution_count": 11,
   "id": "ea9ddb2a",
   "metadata": {},
   "outputs": [],
   "source": [
    "i = len(images)*2+1;\n",
    "for img in vaugmented_images:\n",
    "    cv2.imwrite(os.path.join('dataset/6/6 (%i).jpg'%i),img)\n",
    "    i=i+1"
   ]
  },
  {
   "cell_type": "markdown",
   "id": "a07433b6",
   "metadata": {},
   "source": [
    "## Multiply"
   ]
  },
  {
   "cell_type": "code",
   "execution_count": 12,
   "id": "f7727a6f",
   "metadata": {},
   "outputs": [],
   "source": [
    "augmentation_multiply = iaa.Sequential([\n",
    "    iaa.Multiply((0.8,1.2))\n",
    "])"
   ]
  },
  {
   "cell_type": "code",
   "execution_count": 13,
   "id": "63128c8f",
   "metadata": {},
   "outputs": [],
   "source": [
    "maugmentation_images = augmentation_multiply(images = images)"
   ]
  },
  {
   "cell_type": "code",
   "execution_count": 14,
   "id": "1a48f7ac",
   "metadata": {},
   "outputs": [],
   "source": [
    "i = len(images)*3+1\n",
    "for img in maugmentation_images:\n",
    "    cv2.imwrite(os.path.join('dataset/6/6 (%i).jpg'%i),img)\n",
    "    i=i+1"
   ]
  },
  {
   "cell_type": "markdown",
   "id": "d81566a0",
   "metadata": {},
   "source": [
    "## Linear Contrast"
   ]
  },
  {
   "cell_type": "code",
   "execution_count": 15,
   "id": "7539e9a9",
   "metadata": {},
   "outputs": [],
   "source": [
    "augmentation_contrast = iaa.Sequential([\n",
    "    iaa.LinearContrast((0.6,1.4))\n",
    "])"
   ]
  },
  {
   "cell_type": "code",
   "execution_count": 16,
   "id": "f8d5e3fd",
   "metadata": {},
   "outputs": [],
   "source": [
    "laugmentation_images = augmentation_contrast(images = images)"
   ]
  },
  {
   "cell_type": "code",
   "execution_count": 17,
   "id": "54cc994e",
   "metadata": {},
   "outputs": [],
   "source": [
    "i = len(images)*4+1\n",
    "for img in laugmentation_images:\n",
    "    cv2.imwrite(os.path.join('dataset/6/6 (%i).jpg'%i),img)\n",
    "    i=i+1"
   ]
  },
  {
   "cell_type": "markdown",
   "id": "0e357cc5",
   "metadata": {},
   "source": [
    "# Image Preprocessing"
   ]
  },
  {
   "cell_type": "markdown",
   "id": "5a9ea550",
   "metadata": {},
   "source": [
    "## Image Resize"
   ]
  },
  {
   "cell_type": "code",
   "execution_count": 18,
   "id": "8feebd85",
   "metadata": {},
   "outputs": [],
   "source": [
    "#Loading the augmented images\n",
    "images = []\n",
    "i=0\n",
    "for img in glob.glob(input_folder+'/*.jpg'):\n",
    "    image = cv2.imread(img)\n",
    "    imageResized = cv2.resize(image,(416,416))\n",
    "    cv2.imwrite('preprocessedDataset/6/6 (%i).jpg'%i,imageResized)\n",
    "    i=i+1"
   ]
  },
  {
   "cell_type": "code",
   "execution_count": null,
   "id": "6b83ec51",
   "metadata": {},
   "outputs": [],
   "source": []
  }
 ],
 "metadata": {
  "kernelspec": {
   "display_name": "Python 3 (ipykernel)",
   "language": "python",
   "name": "python3"
  },
  "language_info": {
   "codemirror_mode": {
    "name": "ipython",
    "version": 3
   },
   "file_extension": ".py",
   "mimetype": "text/x-python",
   "name": "python",
   "nbconvert_exporter": "python",
   "pygments_lexer": "ipython3",
   "version": "3.10.5"
  }
 },
 "nbformat": 4,
 "nbformat_minor": 5
}
